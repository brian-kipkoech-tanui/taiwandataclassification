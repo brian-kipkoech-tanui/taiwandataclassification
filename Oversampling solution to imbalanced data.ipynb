{
 "cells": [
  {
   "cell_type": "code",
   "execution_count": 2,
   "id": "001d7c45",
   "metadata": {},
   "outputs": [],
   "source": [
    "import pandas as pd\n",
    "import numpy as np"
   ]
  },
  {
   "cell_type": "code",
   "execution_count": 3,
   "id": "935ae006",
   "metadata": {},
   "outputs": [
    {
     "name": "stdout",
     "output_type": "stream",
     "text": [
      "<class 'pandas.core.frame.DataFrame'>\n",
      "RangeIndex: 6819 entries, 0 to 6818\n",
      "Data columns (total 96 columns):\n",
      " #   Column                                                    Non-Null Count  Dtype  \n",
      "---  ------                                                    --------------  -----  \n",
      " 0   Bankrupt?                                                 6819 non-null   int64  \n",
      " 1    ROA(C) before interest and depreciation before interest  6819 non-null   float64\n",
      " 2    ROA(A) before interest and % after tax                   6819 non-null   float64\n",
      " 3    ROA(B) before interest and depreciation after tax        6819 non-null   float64\n",
      " 4    Operating Gross Margin                                   6819 non-null   float64\n",
      " 5    Realized Sales Gross Margin                              6819 non-null   float64\n",
      " 6    Operating Profit Rate                                    6819 non-null   float64\n",
      " 7    Pre-tax net Interest Rate                                6819 non-null   float64\n",
      " 8    After-tax net Interest Rate                              6819 non-null   float64\n",
      " 9    Non-industry income and expenditure/revenue              6819 non-null   float64\n",
      " 10   Continuous interest rate (after tax)                     6819 non-null   float64\n",
      " 11   Operating Expense Rate                                   6819 non-null   float64\n",
      " 12   Research and development expense rate                    6819 non-null   float64\n",
      " 13   Cash flow rate                                           6819 non-null   float64\n",
      " 14   Interest-bearing debt interest rate                      6819 non-null   float64\n",
      " 15   Tax rate (A)                                             6819 non-null   float64\n",
      " 16   Net Value Per Share (B)                                  6819 non-null   float64\n",
      " 17   Net Value Per Share (A)                                  6819 non-null   float64\n",
      " 18   Net Value Per Share (C)                                  6819 non-null   float64\n",
      " 19   Persistent EPS in the Last Four Seasons                  6819 non-null   float64\n",
      " 20   Cash Flow Per Share                                      6819 non-null   float64\n",
      " 21   Revenue Per Share (Yuan ¥)                               6819 non-null   float64\n",
      " 22   Operating Profit Per Share (Yuan ¥)                      6819 non-null   float64\n",
      " 23   Per Share Net profit before tax (Yuan ¥)                 6819 non-null   float64\n",
      " 24   Realized Sales Gross Profit Growth Rate                  6819 non-null   float64\n",
      " 25   Operating Profit Growth Rate                             6819 non-null   float64\n",
      " 26   After-tax Net Profit Growth Rate                         6819 non-null   float64\n",
      " 27   Regular Net Profit Growth Rate                           6819 non-null   float64\n",
      " 28   Continuous Net Profit Growth Rate                        6819 non-null   float64\n",
      " 29   Total Asset Growth Rate                                  6819 non-null   float64\n",
      " 30   Net Value Growth Rate                                    6819 non-null   float64\n",
      " 31   Total Asset Return Growth Rate Ratio                     6819 non-null   float64\n",
      " 32   Cash Reinvestment %                                      6819 non-null   float64\n",
      " 33   Current Ratio                                            6819 non-null   float64\n",
      " 34   Quick Ratio                                              6819 non-null   float64\n",
      " 35   Interest Expense Ratio                                   6819 non-null   float64\n",
      " 36   Total debt/Total net worth                               6819 non-null   float64\n",
      " 37   Debt ratio %                                             6819 non-null   float64\n",
      " 38   Net worth/Assets                                         6819 non-null   float64\n",
      " 39   Long-term fund suitability ratio (A)                     6819 non-null   float64\n",
      " 40   Borrowing dependency                                     6819 non-null   float64\n",
      " 41   Contingent liabilities/Net worth                         6819 non-null   float64\n",
      " 42   Operating profit/Paid-in capital                         6819 non-null   float64\n",
      " 43   Net profit before tax/Paid-in capital                    6819 non-null   float64\n",
      " 44   Inventory and accounts receivable/Net value              6819 non-null   float64\n",
      " 45   Total Asset Turnover                                     6819 non-null   float64\n",
      " 46   Accounts Receivable Turnover                             6819 non-null   float64\n",
      " 47   Average Collection Days                                  6819 non-null   float64\n",
      " 48   Inventory Turnover Rate (times)                          6819 non-null   float64\n",
      " 49   Fixed Assets Turnover Frequency                          6819 non-null   float64\n",
      " 50   Net Worth Turnover Rate (times)                          6819 non-null   float64\n",
      " 51   Revenue per person                                       6819 non-null   float64\n",
      " 52   Operating profit per person                              6819 non-null   float64\n",
      " 53   Allocation rate per person                               6819 non-null   float64\n",
      " 54   Working Capital to Total Assets                          6819 non-null   float64\n",
      " 55   Quick Assets/Total Assets                                6819 non-null   float64\n",
      " 56   Current Assets/Total Assets                              6819 non-null   float64\n",
      " 57   Cash/Total Assets                                        6819 non-null   float64\n",
      " 58   Quick Assets/Current Liability                           6819 non-null   float64\n",
      " 59   Cash/Current Liability                                   6819 non-null   float64\n",
      " 60   Current Liability to Assets                              6819 non-null   float64\n",
      " 61   Operating Funds to Liability                             6819 non-null   float64\n",
      " 62   Inventory/Working Capital                                6819 non-null   float64\n",
      " 63   Inventory/Current Liability                              6819 non-null   float64\n",
      " 64   Current Liabilities/Liability                            6819 non-null   float64\n",
      " 65   Working Capital/Equity                                   6819 non-null   float64\n",
      " 66   Current Liabilities/Equity                               6819 non-null   float64\n",
      " 67   Long-term Liability to Current Assets                    6819 non-null   float64\n",
      " 68   Retained Earnings to Total Assets                        6819 non-null   float64\n",
      " 69   Total income/Total expense                               6819 non-null   float64\n",
      " 70   Total expense/Assets                                     6819 non-null   float64\n",
      " 71   Current Asset Turnover Rate                              6819 non-null   float64\n",
      " 72   Quick Asset Turnover Rate                                6819 non-null   float64\n",
      " 73   Working capitcal Turnover Rate                           6819 non-null   float64\n",
      " 74   Cash Turnover Rate                                       6819 non-null   float64\n",
      " 75   Cash Flow to Sales                                       6819 non-null   float64\n",
      " 76   Fixed Assets to Assets                                   6819 non-null   float64\n",
      " 77   Current Liability to Liability                           6819 non-null   float64\n",
      " 78   Current Liability to Equity                              6819 non-null   float64\n",
      " 79   Equity to Long-term Liability                            6819 non-null   float64\n",
      " 80   Cash Flow to Total Assets                                6819 non-null   float64\n",
      " 81   Cash Flow to Liability                                   6819 non-null   float64\n",
      " 82   CFO to Assets                                            6819 non-null   float64\n",
      " 83   Cash Flow to Equity                                      6819 non-null   float64\n",
      " 84   Current Liability to Current Assets                      6819 non-null   float64\n",
      " 85   Liability-Assets Flag                                    6819 non-null   int64  \n",
      " 86   Net Income to Total Assets                               6819 non-null   float64\n",
      " 87   Total assets to GNP price                                6819 non-null   float64\n",
      " 88   No-credit Interval                                       6819 non-null   float64\n",
      " 89   Gross Profit to Sales                                    6819 non-null   float64\n",
      " 90   Net Income to Stockholder's Equity                       6819 non-null   float64\n",
      " 91   Liability to Equity                                      6819 non-null   float64\n",
      " 92   Degree of Financial Leverage (DFL)                       6819 non-null   float64\n",
      " 93   Interest Coverage Ratio (Interest expense to EBIT)       6819 non-null   float64\n",
      " 94   Net Income Flag                                          6819 non-null   int64  \n",
      " 95   Equity to Liability                                      6819 non-null   float64\n",
      "dtypes: float64(93), int64(3)\n",
      "memory usage: 5.0 MB\n"
     ]
    }
   ],
   "source": [
    "df = pd.read_csv(\"./data.csv\")\n",
    "df.info()"
   ]
  },
  {
   "cell_type": "code",
   "execution_count": 4,
   "id": "2e80fa84",
   "metadata": {},
   "outputs": [
    {
     "data": {
      "text/plain": [
       "<AxesSubplot:>"
      ]
     },
     "execution_count": 4,
     "metadata": {},
     "output_type": "execute_result"
    },
    {
     "data": {
      "image/png": "[encoded data removed]",
      "text/plain": [
       "<Figure size 640x480 with 1 Axes>"
      ]
     },
     "metadata": {},
     "output_type": "display_data"
    }
   ],
   "source": [
    "df[\"Bankrupt?\"].value_counts(normalize=True).plot(kind='bar')"
   ]
  },
  {
   "cell_type": "code",
   "execution_count": 5,
   "id": "894b1a55",
   "metadata": {},
   "outputs": [],
   "source": [
    "df[\"Bankruptdesc\"] = df[\"Bankrupt?\"].map({\n",
    "    0 : \"Not Bankrupt\",\n",
    "    1 : \"Bankrupt\"\n",
    "})"
   ]
  },
  {
   "cell_type": "code",
   "execution_count": 6,
   "id": "c50882c7",
   "metadata": {},
   "outputs": [
    {
     "data": {
      "text/plain": [
       "<AxesSubplot:>"
      ]
     },
     "execution_count": 6,
     "metadata": {},
     "output_type": "execute_result"
    },
    {
     "data": {
      "image/png": "[encoded data removed]",
      "text/plain": [
       "<Figure size 640x480 with 1 Axes>"
      ]
     },
     "metadata": {},
     "output_type": "display_data"
    }
   ],
   "source": [
    "df[\"Bankruptdesc\"].value_counts(normalize=True).plot(kind='bar')"
   ]
  },
  {
   "cell_type": "markdown",
   "id": "09d6246c",
   "metadata": {},
   "source": [
    "### Oversampling"
   ]
  },
  {
   "cell_type": "code",
   "execution_count": 7,
   "id": "70b04b26",
   "metadata": {},
   "outputs": [],
   "source": [
    "from sklearn.utils import resample\n",
    "\n",
    "# Example: Over-sampling the minority class\n",
    "minority_class = df[df['Bankrupt?'] == 1]\n",
    "majority_class = df[df['Bankrupt?'] == 0]\n",
    "\n",
    "minority_class_upsampled = resample(minority_class, replace=True, n_samples=len(majority_class), random_state=42)\n",
    "\n",
    "balanced_df = pd.concat([majority_class, minority_class_upsampled])\n"
   ]
  },
  {
   "cell_type": "code",
   "execution_count": 8,
   "id": "80b0ae0b",
   "metadata": {},
   "outputs": [],
   "source": [
    "from imblearn.over_sampling import RandomOverSampler"
   ]
  },
  {
   "cell_type": "code",
   "execution_count": 9,
   "id": "c394350f",
   "metadata": {},
   "outputs": [],
   "source": [
    "over_smapler = RandomOverSampler()"
   ]
  },
  {
   "cell_type": "code",
   "execution_count": 10,
   "id": "1b2e4203",
   "metadata": {},
   "outputs": [],
   "source": [
    "y = df.iloc[:,0]\n",
    "X = df.iloc[:,1:]"
   ]
  },
  {
   "cell_type": "code",
   "execution_count": 11,
   "id": "168f1b00",
   "metadata": {},
   "outputs": [],
   "source": [
    "X_imb_res, y_imb_res = over_smapler.fit_resample(X, y)"
   ]
  },
  {
   "cell_type": "code",
   "execution_count": 12,
   "id": "4a9c1742",
   "metadata": {},
   "outputs": [],
   "source": [
    "X_imb_res.drop('Bankruptdesc', axis=1, inplace=True)"
   ]
  },
  {
   "cell_type": "code",
   "execution_count": 13,
   "id": "fce546bf",
   "metadata": {},
   "outputs": [],
   "source": [
    "from sklearn.preprocessing import FunctionTransformer\n",
    "from sklearn.model_selection import train_test_split\n",
    "from sklearn.preprocessing import StandardScaler\n",
    "\n",
    "X_train, X_test, y_train, y_test = train_test_split(X_imb_res, y_imb_res, test_size=0.25)\n",
    "X_train, X_test, y_train, y_test = X_train.values, X_test.values, y_train.values, y_test.values\n",
    "# Standardise the whole dataset\n",
    "std_scaler = StandardScaler().fit(X_train)\n",
    "\n",
    "def preprocessor(X):\n",
    "    D = np.copy(X)\n",
    "    D = std_scaler.transform(D)\n",
    "    return D"
   ]
  },
  {
   "cell_type": "code",
   "execution_count": 14,
   "id": "87e8b5b8",
   "metadata": {},
   "outputs": [
    {
     "data": {
      "text/plain": [
       "FunctionTransformer(func=<function preprocessor at 0x0000027695A16438>)"
      ]
     },
     "execution_count": 14,
     "metadata": {},
     "output_type": "execute_result"
    }
   ],
   "source": [
    "preprocess_transformer = FunctionTransformer(preprocessor)\n",
    "preprocess_transformer"
   ]
  },
  {
   "cell_type": "code",
   "execution_count": 15,
   "id": "b3888d09",
   "metadata": {},
   "outputs": [
    {
     "data": {
      "text/plain": [
       "Pipeline(steps=[('scaler',\n",
       "                 FunctionTransformer(func=<function preprocessor at 0x0000027695A16438>)),\n",
       "                ('Logistic Regression', LogisticRegression())])"
      ]
     },
     "execution_count": 15,
     "metadata": {},
     "output_type": "execute_result"
    }
   ],
   "source": [
    "from sklearn.pipeline import Pipeline\n",
    "from sklearn.linear_model import LogisticRegression\n",
    "\n",
    "p1 = Pipeline([('scaler', preprocess_transformer),\n",
    "              ('Logistic Regression', LogisticRegression())])\n",
    "p1"
   ]
  },
  {
   "cell_type": "code",
   "execution_count": 16,
   "id": "a9dd0693",
   "metadata": {},
   "outputs": [],
   "source": [
    "from sklearn.metrics import precision_score, recall_score, f1_score, roc_auc_score, confusion_matrix, accuracy_score\n",
    "\n",
    "def fit_and_print(p, X_train=X_train, X_test=X_test, y_train=y_train, y_test=y_test):\n",
    "    # Fit the transformer\n",
    "    p.fit(X_train, y_train)\n",
    "    # Predict the train and test outputs\n",
    "    test_prediction =p.predict(X_test)\n",
    "    \n",
    "    # Print the errors\n",
    "    print(\"Accuracy Score:   \"+str(accuracy_score(test_prediction, y_test)*100))\n",
    "    print(\"Precision Score:  \"+str(precision_score(test_prediction, y_test)*100))\n",
    "    print(\"Recall Score:     \"+str(recall_score(test_prediction, y_test)*100))\n",
    "    print(\"roc_auc_score:    \"+str(accuracy_score(test_prediction, y_test)*100))\n",
    "    print(\"\\nConfusion Matrix:\\n\", confusion_matrix(test_prediction, y_test))"
   ]
  },
  {
   "cell_type": "code",
   "execution_count": 17,
   "id": "8a794c12",
   "metadata": {},
   "outputs": [
    {
     "name": "stdout",
     "output_type": "stream",
     "text": [
      "Accuracy Score:   87.2121212121212\n",
      "Precision Score:  87.40390301596689\n",
      "Recall Score:     87.61114404267931\n",
      "roc_auc_score:    87.2121212121212\n",
      "\n",
      "Confusion Matrix:\n",
      " [[1400  213]\n",
      " [ 209 1478]]\n"
     ]
    },
    {
     "name": "stderr",
     "output_type": "stream",
     "text": [
      "C:\\Users\\HP\\AppData\\Local\\Programs\\Python\\Python37\\lib\\site-packages\\sklearn\\linear_model\\_logistic.py:764: ConvergenceWarning: lbfgs failed to converge (status=1):\n",
      "STOP: TOTAL NO. of ITERATIONS REACHED LIMIT.\n",
      "\n",
      "Increase the number of iterations (max_iter) or scale the data as shown in:\n",
      "    https://scikit-learn.org/stable/modules/preprocessing.html\n",
      "Please also refer to the documentation for alternative solver options:\n",
      "    https://scikit-learn.org/stable/modules/linear_model.html#logistic-regression\n",
      "  extra_warning_msg=_LOGISTIC_SOLVER_CONVERGENCE_MSG)\n"
     ]
    }
   ],
   "source": [
    "fit_and_print(p1)"
   ]
  },
  {
   "cell_type": "code",
   "execution_count": 18,
   "id": "dce24f17",
   "metadata": {},
   "outputs": [
    {
     "data": {
      "text/plain": [
       "Pipeline(steps=[('scaler',\n",
       "                 FunctionTransformer(func=<function preprocessor at 0x0000027695A16438>)),\n",
       "                ('Logistic Regression', LogisticRegression())])"
      ]
     },
     "execution_count": 18,
     "metadata": {},
     "output_type": "execute_result"
    }
   ],
   "source": [
    "from sklearn.pipeline import Pipeline\n",
    "from sklearn.linear_model import LogisticRegression\n",
    "\n",
    "p1 = Pipeline([('scaler', preprocess_transformer),\n",
    "              ('Logistic Regression', LogisticRegression())])\n",
    "p1"
   ]
  },
  {
   "cell_type": "code",
   "execution_count": null,
   "id": "c349fe85",
   "metadata": {},
   "outputs": [],
   "source": []
  },
  {
   "cell_type": "code",
   "execution_count": 19,
   "id": "16eeb883",
   "metadata": {},
   "outputs": [],
   "source": [
    "balanced_df.drop(\"Bankruptdesc\", axis=1, inplace=True)"
   ]
  },
  {
   "cell_type": "code",
   "execution_count": 20,
   "id": "d5191b47",
   "metadata": {},
   "outputs": [],
   "source": [
    "from sklearn.preprocessing import FunctionTransformer\n",
    "from sklearn.model_selection import train_test_split\n",
    "from sklearn.preprocessing import StandardScaler\n",
    "\n",
    "# Separate features from target\n",
    "X = balanced_df.iloc[:,1:]\n",
    "y = balanced_df.iloc[:,0]\n",
    "\n",
    "X_train, X_test, y_train, y_test = train_test_split(X, y, test_size=0.25)\n",
    "X_train, X_test, y_train, y_test = X_train.values, X_test.values, y_train.values, y_test.values\n",
    "# Standardise the whole dataset\n",
    "std_scaler = StandardScaler().fit(X_train)\n",
    "\n",
    "def preprocessor(X):\n",
    "    D = np.copy(X)\n",
    "    D = std_scaler.transform(D)\n",
    "    return D"
   ]
  },
  {
   "cell_type": "markdown",
   "id": "bc6fcbcd",
   "metadata": {},
   "source": [
    "### Fitting a Logistic Regression Classifier"
   ]
  },
  {
   "cell_type": "code",
   "execution_count": 21,
   "id": "32f41885",
   "metadata": {},
   "outputs": [
    {
     "data": {
      "text/plain": [
       "Pipeline(steps=[('scaler',\n",
       "                 FunctionTransformer(func=<function preprocessor at 0x0000027695A16438>)),\n",
       "                ('Logistic Regression', LogisticRegression())])"
      ]
     },
     "execution_count": 21,
     "metadata": {},
     "output_type": "execute_result"
    }
   ],
   "source": [
    "p2 = Pipeline([('scaler', preprocess_transformer),\n",
    "              ('Logistic Regression', LogisticRegression())])\n",
    "p2"
   ]
  },
  {
   "cell_type": "code",
   "execution_count": 22,
   "id": "f8f32a96",
   "metadata": {},
   "outputs": [
    {
     "data": {
      "text/html": [
       "<div>\n",
       "<style scoped>\n",
       "    .dataframe tbody tr th:only-of-type {\n",
       "        vertical-align: middle;\n",
       "    }\n",
       "\n",
       "    .dataframe tbody tr th {\n",
       "        vertical-align: top;\n",
       "    }\n",
       "\n",
       "    .dataframe thead th {\n",
       "        text-align: right;\n",
       "    }\n",
       "</style>\n",
       "<table border=\"1\" class=\"dataframe\">\n",
       "  <thead>\n",
       "    <tr style=\"text-align: right;\">\n",
       "      <th></th>\n",
       "      <th>Bankrupt?</th>\n",
       "      <th>ROA(C) before interest and depreciation before interest</th>\n",
       "      <th>ROA(A) before interest and % after tax</th>\n",
       "      <th>ROA(B) before interest and depreciation after tax</th>\n",
       "      <th>Operating Gross Margin</th>\n",
       "      <th>Realized Sales Gross Margin</th>\n",
       "      <th>Operating Profit Rate</th>\n",
       "      <th>Pre-tax net Interest Rate</th>\n",
       "      <th>After-tax net Interest Rate</th>\n",
       "      <th>Non-industry income and expenditure/revenue</th>\n",
       "      <th>...</th>\n",
       "      <th>Net Income to Total Assets</th>\n",
       "      <th>Total assets to GNP price</th>\n",
       "      <th>No-credit Interval</th>\n",
       "      <th>Gross Profit to Sales</th>\n",
       "      <th>Net Income to Stockholder's Equity</th>\n",
       "      <th>Liability to Equity</th>\n",
       "      <th>Degree of Financial Leverage (DFL)</th>\n",
       "      <th>Interest Coverage Ratio (Interest expense to EBIT)</th>\n",
       "      <th>Net Income Flag</th>\n",
       "      <th>Equity to Liability</th>\n",
       "    </tr>\n",
       "  </thead>\n",
       "  <tbody>\n",
       "    <tr>\n",
       "      <th>6</th>\n",
       "      <td>0</td>\n",
       "      <td>0.390923</td>\n",
       "      <td>0.445704</td>\n",
       "      <td>0.436158</td>\n",
       "      <td>0.619950</td>\n",
       "      <td>0.619950</td>\n",
       "      <td>0.998993</td>\n",
       "      <td>0.797012</td>\n",
       "      <td>0.808960</td>\n",
       "      <td>0.302814</td>\n",
       "      <td>...</td>\n",
       "      <td>0.736619</td>\n",
       "      <td>0.018372</td>\n",
       "      <td>0.623655</td>\n",
       "      <td>0.619949</td>\n",
       "      <td>0.829980</td>\n",
       "      <td>0.292504</td>\n",
       "      <td>0.026622</td>\n",
       "      <td>0.564200</td>\n",
       "      <td>1</td>\n",
       "      <td>0.015663</td>\n",
       "    </tr>\n",
       "    <tr>\n",
       "      <th>7</th>\n",
       "      <td>0</td>\n",
       "      <td>0.508361</td>\n",
       "      <td>0.570922</td>\n",
       "      <td>0.559077</td>\n",
       "      <td>0.601738</td>\n",
       "      <td>0.601717</td>\n",
       "      <td>0.999009</td>\n",
       "      <td>0.797449</td>\n",
       "      <td>0.809362</td>\n",
       "      <td>0.303545</td>\n",
       "      <td>...</td>\n",
       "      <td>0.815350</td>\n",
       "      <td>0.010005</td>\n",
       "      <td>0.623843</td>\n",
       "      <td>0.601739</td>\n",
       "      <td>0.841459</td>\n",
       "      <td>0.278607</td>\n",
       "      <td>0.027031</td>\n",
       "      <td>0.566089</td>\n",
       "      <td>1</td>\n",
       "      <td>0.034889</td>\n",
       "    </tr>\n",
       "    <tr>\n",
       "      <th>8</th>\n",
       "      <td>0</td>\n",
       "      <td>0.488519</td>\n",
       "      <td>0.545137</td>\n",
       "      <td>0.543284</td>\n",
       "      <td>0.603612</td>\n",
       "      <td>0.603612</td>\n",
       "      <td>0.998961</td>\n",
       "      <td>0.797414</td>\n",
       "      <td>0.809338</td>\n",
       "      <td>0.303584</td>\n",
       "      <td>...</td>\n",
       "      <td>0.803647</td>\n",
       "      <td>0.000824</td>\n",
       "      <td>0.623977</td>\n",
       "      <td>0.603613</td>\n",
       "      <td>0.840487</td>\n",
       "      <td>0.276423</td>\n",
       "      <td>0.026891</td>\n",
       "      <td>0.565592</td>\n",
       "      <td>1</td>\n",
       "      <td>0.065826</td>\n",
       "    </tr>\n",
       "    <tr>\n",
       "      <th>9</th>\n",
       "      <td>0</td>\n",
       "      <td>0.495686</td>\n",
       "      <td>0.550916</td>\n",
       "      <td>0.542963</td>\n",
       "      <td>0.599209</td>\n",
       "      <td>0.599209</td>\n",
       "      <td>0.999001</td>\n",
       "      <td>0.797404</td>\n",
       "      <td>0.809320</td>\n",
       "      <td>0.303483</td>\n",
       "      <td>...</td>\n",
       "      <td>0.804195</td>\n",
       "      <td>0.005798</td>\n",
       "      <td>0.623865</td>\n",
       "      <td>0.599205</td>\n",
       "      <td>0.840688</td>\n",
       "      <td>0.279388</td>\n",
       "      <td>0.027243</td>\n",
       "      <td>0.566668</td>\n",
       "      <td>1</td>\n",
       "      <td>0.030801</td>\n",
       "    </tr>\n",
       "    <tr>\n",
       "      <th>10</th>\n",
       "      <td>0</td>\n",
       "      <td>0.482475</td>\n",
       "      <td>0.567543</td>\n",
       "      <td>0.538198</td>\n",
       "      <td>0.614026</td>\n",
       "      <td>0.614026</td>\n",
       "      <td>0.998978</td>\n",
       "      <td>0.797535</td>\n",
       "      <td>0.809460</td>\n",
       "      <td>0.303759</td>\n",
       "      <td>...</td>\n",
       "      <td>0.814111</td>\n",
       "      <td>0.076972</td>\n",
       "      <td>0.623687</td>\n",
       "      <td>0.614021</td>\n",
       "      <td>0.841337</td>\n",
       "      <td>0.278356</td>\n",
       "      <td>0.026971</td>\n",
       "      <td>0.565892</td>\n",
       "      <td>1</td>\n",
       "      <td>0.036572</td>\n",
       "    </tr>\n",
       "    <tr>\n",
       "      <th>...</th>\n",
       "      <td>...</td>\n",
       "      <td>...</td>\n",
       "      <td>...</td>\n",
       "      <td>...</td>\n",
       "      <td>...</td>\n",
       "      <td>...</td>\n",
       "      <td>...</td>\n",
       "      <td>...</td>\n",
       "      <td>...</td>\n",
       "      <td>...</td>\n",
       "      <td>...</td>\n",
       "      <td>...</td>\n",
       "      <td>...</td>\n",
       "      <td>...</td>\n",
       "      <td>...</td>\n",
       "      <td>...</td>\n",
       "      <td>...</td>\n",
       "      <td>...</td>\n",
       "      <td>...</td>\n",
       "      <td>...</td>\n",
       "      <td>...</td>\n",
       "    </tr>\n",
       "    <tr>\n",
       "      <th>3595</th>\n",
       "      <td>1</td>\n",
       "      <td>0.102325</td>\n",
       "      <td>0.121511</td>\n",
       "      <td>0.112212</td>\n",
       "      <td>0.585876</td>\n",
       "      <td>0.585876</td>\n",
       "      <td>0.998786</td>\n",
       "      <td>0.796917</td>\n",
       "      <td>0.808863</td>\n",
       "      <td>0.303082</td>\n",
       "      <td>...</td>\n",
       "      <td>0.481836</td>\n",
       "      <td>0.000692</td>\n",
       "      <td>0.623637</td>\n",
       "      <td>0.585875</td>\n",
       "      <td>0.798728</td>\n",
       "      <td>0.287020</td>\n",
       "      <td>0.026771</td>\n",
       "      <td>0.565059</td>\n",
       "      <td>1</td>\n",
       "      <td>0.018077</td>\n",
       "    </tr>\n",
       "    <tr>\n",
       "      <th>5</th>\n",
       "      <td>1</td>\n",
       "      <td>0.388680</td>\n",
       "      <td>0.415177</td>\n",
       "      <td>0.419134</td>\n",
       "      <td>0.590171</td>\n",
       "      <td>0.590251</td>\n",
       "      <td>0.998758</td>\n",
       "      <td>0.796903</td>\n",
       "      <td>0.808771</td>\n",
       "      <td>0.303116</td>\n",
       "      <td>...</td>\n",
       "      <td>0.710420</td>\n",
       "      <td>0.005278</td>\n",
       "      <td>0.622605</td>\n",
       "      <td>0.590172</td>\n",
       "      <td>0.829939</td>\n",
       "      <td>0.285087</td>\n",
       "      <td>0.026675</td>\n",
       "      <td>0.564538</td>\n",
       "      <td>1</td>\n",
       "      <td>0.019534</td>\n",
       "    </tr>\n",
       "    <tr>\n",
       "      <th>2908</th>\n",
       "      <td>1</td>\n",
       "      <td>0.446497</td>\n",
       "      <td>0.495475</td>\n",
       "      <td>0.493763</td>\n",
       "      <td>0.606473</td>\n",
       "      <td>0.606423</td>\n",
       "      <td>0.998907</td>\n",
       "      <td>0.797282</td>\n",
       "      <td>0.809207</td>\n",
       "      <td>0.303468</td>\n",
       "      <td>...</td>\n",
       "      <td>0.768935</td>\n",
       "      <td>0.000564</td>\n",
       "      <td>0.623540</td>\n",
       "      <td>0.606475</td>\n",
       "      <td>0.836306</td>\n",
       "      <td>0.287988</td>\n",
       "      <td>0.026529</td>\n",
       "      <td>0.563500</td>\n",
       "      <td>1</td>\n",
       "      <td>0.017506</td>\n",
       "    </tr>\n",
       "    <tr>\n",
       "      <th>2001</th>\n",
       "      <td>1</td>\n",
       "      <td>0.438795</td>\n",
       "      <td>0.090166</td>\n",
       "      <td>0.464586</td>\n",
       "      <td>0.540776</td>\n",
       "      <td>0.540776</td>\n",
       "      <td>0.997789</td>\n",
       "      <td>0.790787</td>\n",
       "      <td>0.802967</td>\n",
       "      <td>0.294457</td>\n",
       "      <td>...</td>\n",
       "      <td>0.411809</td>\n",
       "      <td>0.011098</td>\n",
       "      <td>0.625487</td>\n",
       "      <td>0.540775</td>\n",
       "      <td>0.996912</td>\n",
       "      <td>0.209222</td>\n",
       "      <td>0.026779</td>\n",
       "      <td>0.565098</td>\n",
       "      <td>1</td>\n",
       "      <td>0.008753</td>\n",
       "    </tr>\n",
       "    <tr>\n",
       "      <th>105</th>\n",
       "      <td>1</td>\n",
       "      <td>0.504363</td>\n",
       "      <td>0.562255</td>\n",
       "      <td>0.555330</td>\n",
       "      <td>0.604859</td>\n",
       "      <td>0.604859</td>\n",
       "      <td>0.999060</td>\n",
       "      <td>0.797438</td>\n",
       "      <td>0.809347</td>\n",
       "      <td>0.303419</td>\n",
       "      <td>...</td>\n",
       "      <td>0.805041</td>\n",
       "      <td>0.001932</td>\n",
       "      <td>0.623060</td>\n",
       "      <td>0.604856</td>\n",
       "      <td>0.841229</td>\n",
       "      <td>0.286906</td>\n",
       "      <td>0.027821</td>\n",
       "      <td>0.567646</td>\n",
       "      <td>1</td>\n",
       "      <td>0.018150</td>\n",
       "    </tr>\n",
       "  </tbody>\n",
       "</table>\n",
       "<p>13198 rows × 96 columns</p>\n",
       "</div>"
      ],
      "text/plain": [
       "      Bankrupt?   ROA(C) before interest and depreciation before interest  \\\n",
       "6             0                                           0.390923          \n",
       "7             0                                           0.508361          \n",
       "8             0                                           0.488519          \n",
       "9             0                                           0.495686          \n",
       "10            0                                           0.482475          \n",
       "...         ...                                                ...          \n",
       "3595          1                                           0.102325          \n",
       "5             1                                           0.388680          \n",
       "2908          1                                           0.446497          \n",
       "2001          1                                           0.438795          \n",
       "105           1                                           0.504363          \n",
       "\n",
       "       ROA(A) before interest and % after tax  \\\n",
       "6                                    0.445704   \n",
       "7                                    0.570922   \n",
       "8                                    0.545137   \n",
       "9                                    0.550916   \n",
       "10                                   0.567543   \n",
       "...                                       ...   \n",
       "3595                                 0.121511   \n",
       "5                                    0.415177   \n",
       "2908                                 0.495475   \n",
       "2001                                 0.090166   \n",
       "105                                  0.562255   \n",
       "\n",
       "       ROA(B) before interest and depreciation after tax  \\\n",
       "6                                              0.436158    \n",
       "7                                              0.559077    \n",
       "8                                              0.543284    \n",
       "9                                              0.542963    \n",
       "10                                             0.538198    \n",
       "...                                                 ...    \n",
       "3595                                           0.112212    \n",
       "5                                              0.419134    \n",
       "2908                                           0.493763    \n",
       "2001                                           0.464586    \n",
       "105                                            0.555330    \n",
       "\n",
       "       Operating Gross Margin   Realized Sales Gross Margin  \\\n",
       "6                    0.619950                      0.619950   \n",
       "7                    0.601738                      0.601717   \n",
       "8                    0.603612                      0.603612   \n",
       "9                    0.599209                      0.599209   \n",
       "10                   0.614026                      0.614026   \n",
       "...                       ...                           ...   \n",
       "3595                 0.585876                      0.585876   \n",
       "5                    0.590171                      0.590251   \n",
       "2908                 0.606473                      0.606423   \n",
       "2001                 0.540776                      0.540776   \n",
       "105                  0.604859                      0.604859   \n",
       "\n",
       "       Operating Profit Rate   Pre-tax net Interest Rate  \\\n",
       "6                   0.998993                    0.797012   \n",
       "7                   0.999009                    0.797449   \n",
       "8                   0.998961                    0.797414   \n",
       "9                   0.999001                    0.797404   \n",
       "10                  0.998978                    0.797535   \n",
       "...                      ...                         ...   \n",
       "3595                0.998786                    0.796917   \n",
       "5                   0.998758                    0.796903   \n",
       "2908                0.998907                    0.797282   \n",
       "2001                0.997789                    0.790787   \n",
       "105                 0.999060                    0.797438   \n",
       "\n",
       "       After-tax net Interest Rate  \\\n",
       "6                         0.808960   \n",
       "7                         0.809362   \n",
       "8                         0.809338   \n",
       "9                         0.809320   \n",
       "10                        0.809460   \n",
       "...                            ...   \n",
       "3595                      0.808863   \n",
       "5                         0.808771   \n",
       "2908                      0.809207   \n",
       "2001                      0.802967   \n",
       "105                       0.809347   \n",
       "\n",
       "       Non-industry income and expenditure/revenue  ...  \\\n",
       "6                                         0.302814  ...   \n",
       "7                                         0.303545  ...   \n",
       "8                                         0.303584  ...   \n",
       "9                                         0.303483  ...   \n",
       "10                                        0.303759  ...   \n",
       "...                                            ...  ...   \n",
       "3595                                      0.303082  ...   \n",
       "5                                         0.303116  ...   \n",
       "2908                                      0.303468  ...   \n",
       "2001                                      0.294457  ...   \n",
       "105                                       0.303419  ...   \n",
       "\n",
       "       Net Income to Total Assets   Total assets to GNP price  \\\n",
       "6                        0.736619                    0.018372   \n",
       "7                        0.815350                    0.010005   \n",
       "8                        0.803647                    0.000824   \n",
       "9                        0.804195                    0.005798   \n",
       "10                       0.814111                    0.076972   \n",
       "...                           ...                         ...   \n",
       "3595                     0.481836                    0.000692   \n",
       "5                        0.710420                    0.005278   \n",
       "2908                     0.768935                    0.000564   \n",
       "2001                     0.411809                    0.011098   \n",
       "105                      0.805041                    0.001932   \n",
       "\n",
       "       No-credit Interval   Gross Profit to Sales  \\\n",
       "6                0.623655                0.619949   \n",
       "7                0.623843                0.601739   \n",
       "8                0.623977                0.603613   \n",
       "9                0.623865                0.599205   \n",
       "10               0.623687                0.614021   \n",
       "...                   ...                     ...   \n",
       "3595             0.623637                0.585875   \n",
       "5                0.622605                0.590172   \n",
       "2908             0.623540                0.606475   \n",
       "2001             0.625487                0.540775   \n",
       "105              0.623060                0.604856   \n",
       "\n",
       "       Net Income to Stockholder's Equity   Liability to Equity  \\\n",
       "6                                0.829980              0.292504   \n",
       "7                                0.841459              0.278607   \n",
       "8                                0.840487              0.276423   \n",
       "9                                0.840688              0.279388   \n",
       "10                               0.841337              0.278356   \n",
       "...                                   ...                   ...   \n",
       "3595                             0.798728              0.287020   \n",
       "5                                0.829939              0.285087   \n",
       "2908                             0.836306              0.287988   \n",
       "2001                             0.996912              0.209222   \n",
       "105                              0.841229              0.286906   \n",
       "\n",
       "       Degree of Financial Leverage (DFL)  \\\n",
       "6                                0.026622   \n",
       "7                                0.027031   \n",
       "8                                0.026891   \n",
       "9                                0.027243   \n",
       "10                               0.026971   \n",
       "...                                   ...   \n",
       "3595                             0.026771   \n",
       "5                                0.026675   \n",
       "2908                             0.026529   \n",
       "2001                             0.026779   \n",
       "105                              0.027821   \n",
       "\n",
       "       Interest Coverage Ratio (Interest expense to EBIT)   Net Income Flag  \\\n",
       "6                                              0.564200                   1   \n",
       "7                                              0.566089                   1   \n",
       "8                                              0.565592                   1   \n",
       "9                                              0.566668                   1   \n",
       "10                                             0.565892                   1   \n",
       "...                                                 ...                 ...   \n",
       "3595                                           0.565059                   1   \n",
       "5                                              0.564538                   1   \n",
       "2908                                           0.563500                   1   \n",
       "2001                                           0.565098                   1   \n",
       "105                                            0.567646                   1   \n",
       "\n",
       "       Equity to Liability  \n",
       "6                 0.015663  \n",
       "7                 0.034889  \n",
       "8                 0.065826  \n",
       "9                 0.030801  \n",
       "10                0.036572  \n",
       "...                    ...  \n",
       "3595              0.018077  \n",
       "5                 0.019534  \n",
       "2908              0.017506  \n",
       "2001              0.008753  \n",
       "105               0.018150  \n",
       "\n",
       "[13198 rows x 96 columns]"
      ]
     },
     "execution_count": 22,
     "metadata": {},
     "output_type": "execute_result"
    }
   ],
   "source": [
    "balanced_df"
   ]
  },
  {
   "cell_type": "code",
   "execution_count": 23,
   "id": "69db64f6",
   "metadata": {},
   "outputs": [
    {
     "name": "stdout",
     "output_type": "stream",
     "text": [
      "Accuracy Score:   87.57575757575758\n",
      "Precision Score:  87.87699586043762\n",
      "Recall Score:     87.87699586043762\n",
      "roc_auc_score:    87.57575757575758\n",
      "\n",
      "Confusion Matrix:\n",
      " [[1404  205]\n",
      " [ 205 1486]]\n"
     ]
    },
    {
     "name": "stderr",
     "output_type": "stream",
     "text": [
      "C:\\Users\\HP\\AppData\\Local\\Programs\\Python\\Python37\\lib\\site-packages\\sklearn\\linear_model\\_logistic.py:764: ConvergenceWarning: lbfgs failed to converge (status=1):\n",
      "STOP: TOTAL NO. of ITERATIONS REACHED LIMIT.\n",
      "\n",
      "Increase the number of iterations (max_iter) or scale the data as shown in:\n",
      "    https://scikit-learn.org/stable/modules/preprocessing.html\n",
      "Please also refer to the documentation for alternative solver options:\n",
      "    https://scikit-learn.org/stable/modules/linear_model.html#logistic-regression\n",
      "  extra_warning_msg=_LOGISTIC_SOLVER_CONVERGENCE_MSG)\n"
     ]
    }
   ],
   "source": [
    "fit_and_print(p2)"
   ]
  },
  {
   "cell_type": "code",
   "execution_count": 24,
   "id": "789b5c88",
   "metadata": {},
   "outputs": [
    {
     "data": {
      "text/plain": [
       "(3300, 95)"
      ]
     },
     "execution_count": 24,
     "metadata": {},
     "output_type": "execute_result"
    }
   ],
   "source": [
    "X_test.shape"
   ]
  },
  {
   "cell_type": "markdown",
   "id": "fb533d20",
   "metadata": {},
   "source": [
    "### Fitting a Random Forest Classifier"
   ]
  },
  {
   "cell_type": "code",
   "execution_count": 25,
   "id": "df8f9df8",
   "metadata": {},
   "outputs": [
    {
     "name": "stdout",
     "output_type": "stream",
     "text": [
      "Accuracy Score:   99.51515151515152\n",
      "Precision Score:  100.0\n",
      "Recall Score:     99.06268306971295\n",
      "roc_auc_score:    99.51515151515152\n",
      "\n",
      "Confusion Matrix:\n",
      " [[1593    0]\n",
      " [  16 1691]]\n"
     ]
    }
   ],
   "source": [
    "from sklearn.ensemble import RandomForestClassifier\n",
    "p22 = Pipeline([('scaler', preprocess_transformer),\n",
    "              ('RFC', RandomForestClassifier())])\n",
    "fit_and_print(p22)"
   ]
  },
  {
   "cell_type": "code",
   "execution_count": 26,
   "id": "975734c3",
   "metadata": {},
   "outputs": [
    {
     "name": "stdout",
     "output_type": "stream",
     "text": [
      "Accuracy Score:   90.24242424242425\n",
      "Precision Score:  91.1886457717327\n",
      "Recall Score:     89.91253644314868\n",
      "roc_auc_score:    90.24242424242425\n",
      "\n",
      "Confusion Matrix:\n",
      " [[1436  149]\n",
      " [ 173 1542]]\n"
     ]
    }
   ],
   "source": [
    "from sklearn.ensemble import RandomForestClassifier\n",
    "p2 = Pipeline([('scaler', preprocess_transformer),\n",
    "              ('RFC', RandomForestClassifier(max_depth=4, n_estimators=30))])\n",
    "fit_and_print(p2)"
   ]
  },
  {
   "cell_type": "code",
   "execution_count": 27,
   "id": "d6b6e2f1",
   "metadata": {},
   "outputs": [
    {
     "name": "stdout",
     "output_type": "stream",
     "text": [
      " Non-industry income and expenditure/revenue: 0.05581583133371924\n",
      " Net Value Per Share (C): 0.05127552474984275\n",
      " Total debt/Total net worth: 0.04510590011508451\n",
      " Long-term fund suitability ratio (A): 0.040205099670874656\n",
      " Operating profit/Paid-in capital: 0.0384035785531207\n",
      " Retained Earnings to Total Assets: 0.03804893278667903\n",
      " Long-term Liability to Current Assets: 0.037189874259123276\n",
      " Debt ratio %: 0.02814477129176818\n",
      " Net Income Flag: 0.027159162804339124\n",
      " Operating Profit Per Share (Yuan ¥): 0.026960313747819837\n",
      " Gross Profit to Sales: 0.026863400995622202\n",
      " Liability to Equity: 0.02632049467460024\n",
      " After-tax net Interest Rate: 0.02592208994755924\n",
      " Liability-Assets Flag: 0.02592101077174149\n",
      " Quick Ratio: 0.023257273906572683\n",
      " Degree of Financial Leverage (DFL): 0.022292443344409607\n",
      "Bankrupt?: 0.022214192498964204\n",
      " Net Income to Stockholder's Equity: 0.02134846021818064\n",
      " Pre-tax net Interest Rate: 0.018894298248464496\n",
      " Working Capital/Equity: 0.015643743106852622\n",
      " Net Value Per Share (B): 0.014712632416698672\n",
      " Current Liability to Liability: 0.013734634722013831\n",
      " Current Assets/Total Assets: 0.01310294774317883\n",
      " ROA(A) before interest and % after tax: 0.013026389526470528\n",
      " Operating Funds to Liability: 0.012531769139480757\n",
      " Tax rate (A): 0.01181761887173788\n",
      " Realized Sales Gross Margin: 0.01157667594570073\n",
      " Operating Profit Rate: 0.011566053174528398\n",
      " Cash Flow to Equity: 0.01086834411911465\n",
      " Cash/Current Liability: 0.01040591060776479\n",
      " ROA(C) before interest and depreciation before interest: 0.010015778794580215\n",
      " Continuous Net Profit Growth Rate: 0.00996676521002102\n",
      " Allocation rate per person: 0.00981219257267893\n",
      " Revenue per person: 0.009803281684947658\n",
      " Net Value Per Share (A): 0.009787590398113331\n",
      " Contingent liabilities/Net worth: 0.008899426653385133\n",
      " Quick Asset Turnover Rate: 0.008407858030713575\n",
      " Inventory and accounts receivable/Net value: 0.007195059341598852\n",
      " ROA(B) before interest and depreciation after tax: 0.007168925576983346\n",
      " Current Liability to Assets: 0.006849976556819282\n",
      " Operating Gross Margin: 0.006788063272947664\n",
      " Current Liability to Equity: 0.006729061670668956\n",
      " Current Liabilities/Liability: 0.006469173424157348\n",
      " Working capitcal Turnover Rate: 0.006059759738521245\n",
      " Total income/Total expense: 0.006003947112408653\n",
      " Total assets to GNP price: 0.005725420896322807\n",
      " Research and development expense rate: 0.005588325652771956\n",
      " Fixed Assets to Assets: 0.005540592889583615\n",
      " Working Capital to Total Assets: 0.005507209730990111\n",
      " Equity to Long-term Liability: 0.005480093967858423\n",
      " Cash Turnover Rate: 0.005239145083133424\n",
      " After-tax Net Profit Growth Rate: 0.00516779238034476\n",
      " Cash Flow to Total Assets: 0.005100973114940835\n",
      " Cash Flow to Liability: 0.004986466786373029\n",
      " Net worth/Assets: 0.004966563027644056\n",
      " Net profit before tax/Paid-in capital: 0.004952164909168239\n",
      " Per Share Net profit before tax (Yuan ¥): 0.0047903135410478845\n",
      " Fixed Assets Turnover Frequency: 0.00477929232969892\n",
      " Regular Net Profit Growth Rate: 0.004713533765965679\n",
      " Operating Profit Growth Rate: 0.004561468790103572\n",
      " Realized Sales Gross Profit Growth Rate: 0.0045495232481785565\n",
      " Quick Assets/Total Assets: 0.004515883867112918\n",
      " Inventory/Current Liability: 0.004479512312303007\n",
      " Interest-bearing debt interest rate: 0.004397359956932059\n",
      " Persistent EPS in the Last Four Seasons: 0.00435642694762858\n",
      " CFO to Assets: 0.004345100762480923\n",
      " Net Value Growth Rate: 0.0043411882382223075\n",
      " Total Asset Return Growth Rate Ratio: 0.0041107588835234\n",
      " Revenue Per Share (Yuan ¥): 0.003885813915934481\n",
      " Current Asset Turnover Rate: 0.0038043468306167482\n",
      " No-credit Interval: 0.003542723595875594\n",
      " Operating Expense Rate: 0.00317019917833392\n",
      " Borrowing dependency: 0.0031413045419915746\n",
      " Average Collection Days: 0.0025001855513587406\n",
      " Inventory Turnover Rate (times): 0.0023565274735233817\n",
      " Continuous interest rate (after tax): 0.002004277695889444\n",
      " Total expense/Assets: 0.0009536195584182139\n",
      " Inventory/Working Capital: 0.0008973610747245117\n",
      " Quick Assets/Current Liability: 0.0003419753382132506\n",
      " Total Asset Turnover: 0.00029035859699845317\n",
      " Cash flow rate: 0.00018624042956620734\n",
      " Interest Expense Ratio: 0.00017523469075273607\n",
      " Current Liabilities/Equity: 0.00016069894141924193\n",
      " Net Income to Total Assets: 4.0149466725760034e-05\n",
      " Current Liability to Current Assets: 1.7093508828299946e-05\n",
      " Current Ratio: 1.690491027944913e-05\n",
      " Operating profit per person: 1.3493418750803063e-05\n",
      " Cash/Total Assets: 1.1559627304396454e-05\n",
      " Net Worth Turnover Rate (times): 5.752951860284022e-06\n",
      " Cash Flow Per Share: 2.8342897323806707e-06\n",
      " Total Asset Growth Rate: 0.0\n",
      " Cash Reinvestment %: 0.0\n",
      " Accounts Receivable Turnover: 0.0\n",
      " Cash Flow to Sales: 0.0\n",
      " Interest Coverage Ratio (Interest expense to EBIT): 0.0\n"
     ]
    }
   ],
   "source": [
    "from sklearn.ensemble import RandomForestClassifier\n",
    "from sklearn.preprocessing import StandardScaler\n",
    "\n",
    "# Assuming X and y are your input features and target variable\n",
    "# Make sure to replace X and y with your actual data\n",
    "X = X  # Assuming your features are in the DataFrame df\n",
    "y = y   # Assuming your target variable is in the last column of the DataFrame df\n",
    "\n",
    "# Create the RandomForestClassifier and StandardScaler objects\n",
    "rnd_clf = RandomForestClassifier()\n",
    "sc = StandardScaler()\n",
    "\n",
    "# Scale the input features\n",
    "X = sc.fit_transform(X)\n",
    "\n",
    "# Train the RandomForestClassifier\n",
    "rnd_clf.fit(X, y)\n",
    "\n",
    "# Print feature importances in descending order\n",
    "importances = rnd_clf.feature_importances_\n",
    "feature_names = df.iloc[:, :-1].columns.to_list()\n",
    "\n",
    "# Sort in descending order\n",
    "sorted_indices = sorted(range(len(importances)), key=lambda k: importances[k], reverse=True)\n",
    "\n",
    "for index in sorted_indices:\n",
    "    print(f\"{feature_names[index]}: {importances[index]}\")"
   ]
  },
  {
   "cell_type": "markdown",
   "id": "a0976f92",
   "metadata": {},
   "source": [
    "### Fit a Voting Classifier"
   ]
  },
  {
   "cell_type": "code",
   "execution_count": 28,
   "id": "3d5c49a1",
   "metadata": {},
   "outputs": [],
   "source": [
    "from sklearn.ensemble import VotingClassifier\n",
    "from sklearn.linear_model import LogisticRegression\n",
    "from sklearn.svm import SVC\n",
    "from sklearn.tree import DecisionTreeClassifier\n",
    "\n",
    "log_clf = LogisticRegression()\n",
    "rnd_clf = RandomForestClassifier()\n",
    "svm_clf = SVC(kernel='linear', random_state=0)\n",
    "dec_clf = DecisionTreeClassifier()\n",
    "\n",
    "voting_clf = VotingClassifier(\n",
    "estimators=[('lr', log_clf), ('rf', rnd_clf), ('svc', svm_clf), ('dec', dec_clf)],\n",
    "voting='hard')"
   ]
  },
  {
   "cell_type": "code",
   "execution_count": 29,
   "id": "70c72a74",
   "metadata": {},
   "outputs": [
    {
     "name": "stderr",
     "output_type": "stream",
     "text": [
      "C:\\Users\\HP\\AppData\\Local\\Programs\\Python\\Python37\\lib\\site-packages\\sklearn\\linear_model\\_logistic.py:764: ConvergenceWarning: lbfgs failed to converge (status=1):\n",
      "STOP: TOTAL NO. of ITERATIONS REACHED LIMIT.\n",
      "\n",
      "Increase the number of iterations (max_iter) or scale the data as shown in:\n",
      "    https://scikit-learn.org/stable/modules/preprocessing.html\n",
      "Please also refer to the documentation for alternative solver options:\n",
      "    https://scikit-learn.org/stable/modules/linear_model.html#logistic-regression\n",
      "  extra_warning_msg=_LOGISTIC_SOLVER_CONVERGENCE_MSG)\n"
     ]
    },
    {
     "name": "stdout",
     "output_type": "stream",
     "text": [
      "Accuracy Score:   93.54545454545455\n",
      "Precision Score:  90.00591366055588\n",
      "Recall Score:     97.19029374201787\n",
      "roc_auc_score:    93.54545454545455\n",
      "\n",
      "Confusion Matrix:\n",
      " [[1565  169]\n",
      " [  44 1522]]\n"
     ]
    }
   ],
   "source": [
    "p3 = Pipeline([('scaler', preprocess_transformer),\n",
    "              ('VCL', voting_clf)])\n",
    "fit_and_print(p3)"
   ]
  },
  {
   "cell_type": "markdown",
   "id": "837c3a4c",
   "metadata": {},
   "source": [
    "### Bagging and Pasting"
   ]
  },
  {
   "cell_type": "code",
   "execution_count": 30,
   "id": "19acd0d0",
   "metadata": {},
   "outputs": [],
   "source": [
    "from sklearn.ensemble import BaggingClassifier\n",
    "bag_clf = BaggingClassifier(\n",
    "SVC(kernel='linear', random_state=0), n_estimators=500,\n",
    "max_samples=100, bootstrap=True, n_jobs=-1, oob_score=True)"
   ]
  },
  {
   "cell_type": "code",
   "execution_count": 31,
   "id": "a42869d4",
   "metadata": {},
   "outputs": [
    {
     "name": "stdout",
     "output_type": "stream",
     "text": [
      "Accuracy Score:   87.24242424242425\n",
      "Precision Score:  88.5866351271437\n",
      "Recall Score:     86.79026651216685\n",
      "roc_auc_score:    87.24242424242425\n",
      "\n",
      "Confusion Matrix:\n",
      " [[1381  193]\n",
      " [ 228 1498]]\n"
     ]
    }
   ],
   "source": [
    "p4 = Pipeline([('scaler', preprocess_transformer),\n",
    "              ('VCL', bag_clf)])\n",
    "fit_and_print(p4)"
   ]
  },
  {
   "cell_type": "markdown",
   "id": "0848fbee",
   "metadata": {},
   "source": [
    "### Boosting with ADABoost and Decision Trees"
   ]
  },
  {
   "cell_type": "code",
   "execution_count": 32,
   "id": "b1bffc2c",
   "metadata": {},
   "outputs": [],
   "source": [
    "from sklearn.ensemble import AdaBoostClassifier\n",
    "ada_clf = AdaBoostClassifier(\n",
    "DecisionTreeClassifier(max_depth=1), n_estimators=200,\n",
    "algorithm=\"SAMME.R\", learning_rate=0.5)"
   ]
  },
  {
   "cell_type": "code",
   "execution_count": 33,
   "id": "866a8efc",
   "metadata": {},
   "outputs": [
    {
     "name": "stdout",
     "output_type": "stream",
     "text": [
      "Accuracy Score:   95.45454545454545\n",
      "Precision Score:  97.22057953873447\n",
      "Recall Score:     94.10417859187177\n",
      "roc_auc_score:    95.45454545454545\n",
      "\n",
      "Confusion Matrix:\n",
      " [[1506   47]\n",
      " [ 103 1644]]\n"
     ]
    }
   ],
   "source": [
    "p5 = Pipeline([('scaler', preprocess_transformer),\n",
    "              ('AdaCL', ada_clf)])\n",
    "fit_and_print(p5)"
   ]
  },
  {
   "cell_type": "markdown",
   "id": "30644d70",
   "metadata": {},
   "source": [
    "### Gradient Boosting"
   ]
  },
  {
   "cell_type": "code",
   "execution_count": 34,
   "id": "e4c9e4c9",
   "metadata": {},
   "outputs": [
    {
     "name": "stdout",
     "output_type": "stream",
     "text": [
      "Accuracy Score:   95.87878787878788\n",
      "Precision Score:  98.93554109994086\n",
      "Recall Score:     93.41150195421552\n",
      "roc_auc_score:    95.87878787878788\n",
      "\n",
      "Confusion Matrix:\n",
      " [[1491   18]\n",
      " [ 118 1673]]\n"
     ]
    }
   ],
   "source": [
    "from sklearn.ensemble import GradientBoostingClassifier\n",
    "p6 = Pipeline([('scaler', preprocess_transformer),\n",
    "              ('GBC', GradientBoostingClassifier())])\n",
    "fit_and_print(p6)"
   ]
  },
  {
   "cell_type": "markdown",
   "id": "1db81a37",
   "metadata": {},
   "source": [
    "### XGBoost Classifier"
   ]
  },
  {
   "cell_type": "code",
   "execution_count": 35,
   "id": "6e85ca27",
   "metadata": {},
   "outputs": [
    {
     "name": "stdout",
     "output_type": "stream",
     "text": [
      "Accuracy Score:   99.33333333333333\n",
      "Precision Score:  100.0\n",
      "Recall Score:     98.71570344424985\n",
      "roc_auc_score:    99.33333333333333\n",
      "\n",
      "Confusion Matrix:\n",
      " [[1587    0]\n",
      " [  22 1691]]\n"
     ]
    }
   ],
   "source": [
    "from xgboost import XGBClassifier\n",
    "\n",
    "p7 = Pipeline([('scaler', preprocess_transformer),\n",
    "              ('XGBC', XGBClassifier())])\n",
    "fit_and_print(p7)"
   ]
  },
  {
   "cell_type": "markdown",
   "id": "89565202",
   "metadata": {},
   "source": [
    "### Conclusion"
   ]
  },
  {
   "cell_type": "code",
   "execution_count": 36,
   "id": "ec10866d",
   "metadata": {},
   "outputs": [],
   "source": [
    "# Standardize the features\n",
    "sc = StandardScaler()\n",
    "X_train = sc.fit_transform(X_train)\n",
    "X_test = sc.transform(X_test)\n",
    "# Fit the XGBoost model\n",
    "rnd_clf = RandomForestClassifier()\n",
    "rnd_clf.fit(X_train, y_train)\n",
    "y_pred = rnd_clf.predict(X_test)\n",
    "\n",
    "y_pred_proba = rnd_clf.predict_proba(X_test)"
   ]
  },
  {
   "cell_type": "code",
   "execution_count": 37,
   "id": "72c2b664",
   "metadata": {},
   "outputs": [],
   "source": [
    "# Create a DataFrame for y_test and y_pred\n",
    "data_dict = {\"Actual\": y_test, \"Prediction\": y_pred}\n",
    "results_df = pd.DataFrame(data_dict)"
   ]
  },
  {
   "cell_type": "code",
   "execution_count": 38,
   "id": "82d31cfd",
   "metadata": {},
   "outputs": [
    {
     "data": {
      "text/html": [
       "<div>\n",
       "<style scoped>\n",
       "    .dataframe tbody tr th:only-of-type {\n",
       "        vertical-align: middle;\n",
       "    }\n",
       "\n",
       "    .dataframe tbody tr th {\n",
       "        vertical-align: top;\n",
       "    }\n",
       "\n",
       "    .dataframe thead th {\n",
       "        text-align: right;\n",
       "    }\n",
       "</style>\n",
       "<table border=\"1\" class=\"dataframe\">\n",
       "  <thead>\n",
       "    <tr style=\"text-align: right;\">\n",
       "      <th></th>\n",
       "      <th>Actual</th>\n",
       "      <th>Prediction</th>\n",
       "    </tr>\n",
       "  </thead>\n",
       "  <tbody>\n",
       "    <tr>\n",
       "      <th>0</th>\n",
       "      <td>0</td>\n",
       "      <td>0</td>\n",
       "    </tr>\n",
       "    <tr>\n",
       "      <th>1</th>\n",
       "      <td>1</td>\n",
       "      <td>1</td>\n",
       "    </tr>\n",
       "    <tr>\n",
       "      <th>2</th>\n",
       "      <td>0</td>\n",
       "      <td>0</td>\n",
       "    </tr>\n",
       "    <tr>\n",
       "      <th>3</th>\n",
       "      <td>1</td>\n",
       "      <td>1</td>\n",
       "    </tr>\n",
       "    <tr>\n",
       "      <th>4</th>\n",
       "      <td>0</td>\n",
       "      <td>0</td>\n",
       "    </tr>\n",
       "    <tr>\n",
       "      <th>...</th>\n",
       "      <td>...</td>\n",
       "      <td>...</td>\n",
       "    </tr>\n",
       "    <tr>\n",
       "      <th>3295</th>\n",
       "      <td>1</td>\n",
       "      <td>1</td>\n",
       "    </tr>\n",
       "    <tr>\n",
       "      <th>3296</th>\n",
       "      <td>1</td>\n",
       "      <td>1</td>\n",
       "    </tr>\n",
       "    <tr>\n",
       "      <th>3297</th>\n",
       "      <td>0</td>\n",
       "      <td>0</td>\n",
       "    </tr>\n",
       "    <tr>\n",
       "      <th>3298</th>\n",
       "      <td>1</td>\n",
       "      <td>1</td>\n",
       "    </tr>\n",
       "    <tr>\n",
       "      <th>3299</th>\n",
       "      <td>1</td>\n",
       "      <td>1</td>\n",
       "    </tr>\n",
       "  </tbody>\n",
       "</table>\n",
       "<p>3300 rows × 2 columns</p>\n",
       "</div>"
      ],
      "text/plain": [
       "      Actual  Prediction\n",
       "0          0           0\n",
       "1          1           1\n",
       "2          0           0\n",
       "3          1           1\n",
       "4          0           0\n",
       "...      ...         ...\n",
       "3295       1           1\n",
       "3296       1           1\n",
       "3297       0           0\n",
       "3298       1           1\n",
       "3299       1           1\n",
       "\n",
       "[3300 rows x 2 columns]"
      ]
     },
     "execution_count": 38,
     "metadata": {},
     "output_type": "execute_result"
    }
   ],
   "source": [
    "results_df"
   ]
  },
  {
   "cell_type": "markdown",
   "id": "bca4580d",
   "metadata": {},
   "source": [
    "### Confusion Matrix"
   ]
  },
  {
   "cell_type": "markdown",
   "id": "411e4889",
   "metadata": {},
   "source": [
    "Confusion Matrix:\n",
    "\n",
    "- A confusion matrix provides a tabular summary of the performance of a classification algorithm.\n",
    "- It compares the predicted values against the actual values, breaking them down into true positives, true negatives, false positives, and false negatives.\n",
    "- You can use libraries like scikit-learn to compute and visualize the confusion matrix."
   ]
  },
  {
   "cell_type": "code",
   "execution_count": 39,
   "id": "c6ab79e1",
   "metadata": {},
   "outputs": [
    {
     "data": {
      "image/png": "[encoded data removed]",
      "text/plain": [
       "<Figure size 640x480 with 1 Axes>"
      ]
     },
     "metadata": {},
     "output_type": "display_data"
    }
   ],
   "source": [
    "from sklearn.metrics import confusion_matrix\n",
    "import seaborn as sns\n",
    "import matplotlib.pyplot as plt\n",
    "\n",
    "cm = confusion_matrix(y_test, y_pred)\n",
    "\n",
    "sns.heatmap(cm, annot=True, fmt=\"d\", cmap=\"Blues\", cbar=False)\n",
    "plt.xlabel(\"Predicted\")\n",
    "plt.ylabel(\"Actual\")\n",
    "plt.show()\n"
   ]
  },
  {
   "cell_type": "markdown",
   "id": "c2dd02da",
   "metadata": {},
   "source": [
    "### Receiver Operating Characteristic (ROC) Curve"
   ]
  },
  {
   "cell_type": "markdown",
   "id": "33b93f58",
   "metadata": {},
   "source": [
    "- The ROC curve is a graphical representation of the trade-off between true positive rate (sensitivity) and false positive rate (1- specificity).\n",
    "- It is useful for assessing the performance of a classification model at various threshold settings.\n",
    "- Scikit-learn provides functions to compute and plot ROC curves."
   ]
  },
  {
   "cell_type": "code",
   "execution_count": 40,
   "id": "8645a05a",
   "metadata": {},
   "outputs": [
    {
     "data": {
      "image/png": "[encoded data removed]",
      "text/plain": [
       "<Figure size 640x480 with 1 Axes>"
      ]
     },
     "metadata": {},
     "output_type": "display_data"
    }
   ],
   "source": [
    "from sklearn.metrics import roc_curve, auc\n",
    "\n",
    "fpr, tpr, thresholds = roc_curve(y_test, y_pred_proba[:, 1])\n",
    "roc_auc = auc(fpr, tpr)\n",
    "\n",
    "plt.plot(fpr, tpr, label=f'AUC = {roc_auc:.2f}')\n",
    "plt.plot([0, 1], [0, 1], 'k--')\n",
    "plt.xlabel('False Positive Rate')\n",
    "plt.ylabel('True Positive Rate')\n",
    "plt.title('Receiver Operating Characteristic (ROC) Curve')\n",
    "plt.legend(loc='lower right')\n",
    "plt.show()\n"
   ]
  },
  {
   "cell_type": "markdown",
   "id": "38ac5760",
   "metadata": {},
   "source": [
    "### Precision-Recall Curve:\n",
    "\n",
    "- The precision-recall curve is another way to assess the performance of a binary classification model, particularly when dealing with imbalanced datasets.\n",
    "- It plots precision against recall for different thresholds.\n",
    "- Scikit-learn provides functions to compute and plot precision-recall curves."
   ]
  },
  {
   "cell_type": "code",
   "execution_count": 46,
   "id": "7dcac56d",
   "metadata": {},
   "outputs": [
    {
     "data": {
      "image/png": "[encoded data removed]",
      "text/plain": [
       "<Figure size 640x480 with 1 Axes>"
      ]
     },
     "metadata": {},
     "output_type": "display_data"
    }
   ],
   "source": [
    "from sklearn.metrics import precision_recall_curve, average_precision_score\n",
    "\n",
    "precision, recall, thresholds = precision_recall_curve(y_test, y_pred_proba[:,0])\n",
    "avg_precision = average_precision_score(y_test, y_pred_proba[:,0])\n",
    "\n",
    "plt.plot(recall, precision, label=f'Avg. Precision = {avg_precision:.2f}')\n",
    "plt.xlabel('Recall')\n",
    "plt.ylabel('Precision')\n",
    "plt.title('Precision-Recall Curve')\n",
    "plt.legend(loc='upper right')\n",
    "plt.show()\n"
   ]
  },
  {
   "cell_type": "markdown",
   "id": "ccc20139",
   "metadata": {},
   "source": [
    "In the context of detecting rare cases of burglary in a supermarket, it's generally more important to have a high recall than precision. Here's why:\n",
    "\n",
    "1. **Recall (Sensitivity or True Positive Rate):** Recall measures the ability of a model to capture all the relevant instances of the positive class (burglary in this case) among all actual positive instances. High recall means the model is good at identifying most of the actual cases of burglary.\n",
    "\n",
    "   - **Importance:** In the context of detecting rare events like burglary, missing a true positive (failure to detect an actual case) can have severe consequences. Therefore, having high recall helps in minimizing false negatives, which are instances where the model fails to identify an actual case of burglary.\n",
    "\n",
    "2. **Precision (Positive Predictive Value):** Precision measures the accuracy of the model when it predicts the positive class. It is the ratio of true positives to the total number of predicted positives. High precision means that when the model predicts a positive case, it is likely to be correct.\n",
    "\n",
    "   - **Importance:** While precision is important, it may be acceptable to have some false positives (incorrectly predicting burglary) as long as the recall is high. False positives might lead to inconvenience or additional investigation but are generally less critical than missing actual cases (false negatives) in the context of detecting rare events.\n",
    "\n",
    "In summary, for the specific scenario of detecting rare cases of burglary in a supermarket, prioritize high recall to ensure that the model identifies as many actual cases as possible, even if it means accepting a certain level of false positives."
   ]
  },
  {
   "cell_type": "markdown",
   "id": "2dc2a8e9",
   "metadata": {},
   "source": [
    "Precision becomes important in the context of the supermarket example when the cost or consequences associated with false positives (incorrectly predicting burglary) is high. Here are some scenarios where precision becomes more crucial:\n",
    "\n",
    "1. **Resource Allocation:** If the supermarket security or management has limited resources for investigating or responding to potential burglary incidents, high precision is essential. High precision ensures that when the model predicts a burglary, it is more likely to be a true positive, reducing the wasted resources spent on false alarms.\n",
    "\n",
    "2. **Customer Experience:** False alarms or unnecessary security interventions can inconvenience customers and impact their shopping experience. If precision is high, the likelihood of causing unnecessary disruptions to regular customers is reduced, leading to a better overall customer experience.\n",
    "\n",
    "3. **Legal Implications:** False accusations of burglary can have legal consequences. High precision is crucial to minimize the risk of accusing innocent individuals or taking actions based on false positives that may lead to legal issues.\n",
    "\n",
    "4. **Cost of Investigation:** Investigating potential burglary incidents, even if they turn out to be false alarms, incurs costs. High precision reduces the number of false positives, lowering the overall cost of unnecessary investigations and interventions.\n",
    "\n",
    "In summary, precision is particularly important in situations where the cost, inconvenience, or potential negative consequences associated with false positives are high. Balancing precision and recall is often a trade-off, and the choice depends on the specific priorities and constraints of the supermarket's security objectives and operational considerations."
   ]
  },
  {
   "cell_type": "code",
   "execution_count": null,
   "id": "6f7bc218",
   "metadata": {},
   "outputs": [],
   "source": []
  }
 ],
 "metadata": {
  "hide_input": false,
  "kernelspec": {
   "display_name": "Python 3",
   "language": "python",
   "name": "python3"
  },
  "language_info": {
   "codemirror_mode": {
    "name": "ipython",
    "version": 3
   },
   "file_extension": ".py",
   "mimetype": "text/x-python",
   "name": "python",
   "nbconvert_exporter": "python",
   "pygments_lexer": "ipython3",
   "version": "3.7.8"
  },
  "toc": {
   "base_numbering": 1,
   "nav_menu": {},
   "number_sections": true,
   "sideBar": true,
   "skip_h1_title": false,
   "title_cell": "Table of Contents",
   "title_sidebar": "Contents",
   "toc_cell": false,
   "toc_position": {},
   "toc_section_display": true,
   "toc_window_display": false
  }
 },
 "nbformat": 4,
 "nbformat_minor": 5
}
